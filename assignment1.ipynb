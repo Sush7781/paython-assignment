{
 "cells": [
  {
   "cell_type": "markdown",
   "id": "f5ba3c84-4b2f-4513-a67d-a30a12d46ade",
   "metadata": {},
   "source": [
    "creating variable for string,list,float,tuple"
   ]
  },
  {
   "cell_type": "code",
   "execution_count": 3,
   "id": "5c3eedae-0e41-40cb-a55f-981d5f683e90",
   "metadata": {},
   "outputs": [
    {
     "name": "stdout",
     "output_type": "stream",
     "text": [
      "<class 'str'>\n"
     ]
    }
   ],
   "source": [
    "y=\"sushant\""
   ]
  },
  {
   "cell_type": "code",
   "execution_count": 4,
   "id": "dc0d3a9a-8e99-4b83-81ff-36c473eca8ef",
   "metadata": {},
   "outputs": [
    {
     "name": "stdout",
     "output_type": "stream",
     "text": [
      "<class 'list'>\n"
     ]
    }
   ],
   "source": [
    "s=[23,45,54,56,532]"
   ]
  },
  {
   "cell_type": "code",
   "execution_count": null,
   "id": "dc8a5276-f449-47bd-8bec-15e17c8def81",
   "metadata": {},
   "outputs": [],
   "source": [
    "m=45.6"
   ]
  },
  {
   "cell_type": "code",
   "execution_count": null,
   "id": "4688c89c-9096-42dd-a93d-9b6a088ad4b1",
   "metadata": {},
   "outputs": [],
   "source": [
    "t=(5,)"
   ]
  },
  {
   "cell_type": "markdown",
   "id": "600bacf7-93d4-45a9-a198-ed9eda88701a",
   "metadata": {},
   "source": [
    "data type in for below variable"
   ]
  },
  {
   "cell_type": "code",
   "execution_count": 5,
   "id": "1db5039c-3783-4607-9de5-50b7fdc002a3",
   "metadata": {},
   "outputs": [
    {
     "name": "stdout",
     "output_type": "stream",
     "text": [
      "<class 'str'>\n"
     ]
    }
   ],
   "source": [
    "var1=''\n",
    "print(type(var1))"
   ]
  },
  {
   "cell_type": "code",
   "execution_count": 9,
   "id": "804152f3-fcdd-423b-9ba1-f30f88e42649",
   "metadata": {},
   "outputs": [
    {
     "ename": "SyntaxError",
     "evalue": "invalid syntax (942583972.py, line 1)",
     "output_type": "error",
     "traceback": [
      "\u001b[0;36m  Cell \u001b[0;32mIn[9], line 1\u001b[0;36m\u001b[0m\n\u001b[0;31m    var2='['ds','Ml','Python']'\u001b[0m\n\u001b[0m            ^\u001b[0m\n\u001b[0;31mSyntaxError\u001b[0m\u001b[0;31m:\u001b[0m invalid syntax\n"
     ]
    }
   ],
   "source": [
    "var2='['ds','Ml','Python']'\n",
    "print(type(var2))"
   ]
  },
  {
   "cell_type": "code",
   "execution_count": 10,
   "id": "5ef92416-460a-4278-9218-c2dcb70a1998",
   "metadata": {},
   "outputs": [
    {
     "name": "stdout",
     "output_type": "stream",
     "text": [
      "<class 'list'>\n"
     ]
    }
   ],
   "source": [
    "var3=['ds','Ml','Python']\n",
    "print(type(var3))"
   ]
  },
  {
   "cell_type": "code",
   "execution_count": 11,
   "id": "ad93c9a9-fe5e-4a14-9cd2-fb5f64c73f56",
   "metadata": {},
   "outputs": [
    {
     "name": "stdout",
     "output_type": "stream",
     "text": [
      "<class 'float'>\n"
     ]
    }
   ],
   "source": [
    "var4=1.\n",
    "print(type(var4))"
   ]
  },
  {
   "cell_type": "markdown",
   "id": "fa8e04b2-6027-4007-8125-5931a62ed0b7",
   "metadata": {},
   "source": [
    "Explain the use of the following operators using an example"
   ]
  },
  {
   "cell_type": "markdown",
   "id": "fdb810d5-68a7-4893-8cc9-997d538df022",
   "metadata": {},
   "source": [
    "(i) /\n",
    "(ii) %\n",
    "(iii) //\n",
    "(iv) **"
   ]
  },
  {
   "cell_type": "markdown",
   "id": "7f60c45e-b269-482a-b226-67d4ce1ebc0d",
   "metadata": {},
   "source": [
    "/ =use for this operator for dividing two element"
   ]
  },
  {
   "cell_type": "code",
   "execution_count": 13,
   "id": "ac6f3358-af3a-4cf2-b791-c93d9d7d4a03",
   "metadata": {},
   "outputs": [
    {
     "name": "stdout",
     "output_type": "stream",
     "text": [
      "2.0\n"
     ]
    }
   ],
   "source": [
    "x=4/2\n",
    "print(x)"
   ]
  },
  {
   "cell_type": "markdown",
   "id": "bf8c92a0-eb68-4901-a02a-b79aad27da2d",
   "metadata": {},
   "source": [
    "ii)% modules oprator put remainder when we divided"
   ]
  },
  {
   "cell_type": "code",
   "execution_count": 14,
   "id": "ffd2f7cb-0807-4a29-836a-2333105eef52",
   "metadata": {},
   "outputs": [
    {
     "name": "stdout",
     "output_type": "stream",
     "text": [
      "1\n"
     ]
    }
   ],
   "source": [
    "x=5%2\n",
    "print(x)"
   ]
  },
  {
   "cell_type": "markdown",
   "id": "56d654df-56b9-4db5-8c11-e89dbf58d8dc",
   "metadata": {},
   "source": [
    "iii)// dived give the floar value"
   ]
  },
  {
   "cell_type": "code",
   "execution_count": 15,
   "id": "730aba1a-c0fc-4e6e-91d9-04036222f363",
   "metadata": {},
   "outputs": [
    {
     "name": "stdout",
     "output_type": "stream",
     "text": [
      "2\n"
     ]
    }
   ],
   "source": [
    "x=5//2\n",
    "print(x)"
   ]
  },
  {
   "cell_type": "markdown",
   "id": "c89f468a-72e4-48ea-98c5-981c79b448f3",
   "metadata": {},
   "source": [
    "iv)** use calculate squre or cube of the number"
   ]
  },
  {
   "cell_type": "code",
   "execution_count": 16,
   "id": "3101625e-22b2-4fae-9cb2-ae191ac97aa2",
   "metadata": {},
   "outputs": [
    {
     "name": "stdout",
     "output_type": "stream",
     "text": [
      "16\n"
     ]
    }
   ],
   "source": [
    "y=4**2\n",
    "print(y)"
   ]
  },
  {
   "cell_type": "markdown",
   "id": "81107d83-0b1f-4e4c-845a-95144cbcf96f",
   "metadata": {},
   "source": [
    "Q4. Create a list of length 10 of your choice containing multiple types of data. Using for loop print the\n",
    "element and its data type."
   ]
  },
  {
   "cell_type": "code",
   "execution_count": null,
   "id": "2c813574-c33d-4269-868e-397f3b27e746",
   "metadata": {},
   "outputs": [],
   "source": [
    "s=['sushant',23,34,56,'pw','kohali','dhoni',45,67,50]\n",
    "for x in s:\n",
    "    print(type(x))"
   ]
  },
  {
   "cell_type": "markdown",
   "id": "44ad05a0-afc3-4833-9867-5c40f3096901",
   "metadata": {},
   "source": [
    "Q5. Using a while loop, verify if the number A is purely divisible by number B and if so then how many\n",
    "times it can be divisible."
   ]
  },
  {
   "cell_type": "code",
   "execution_count": null,
   "id": "dd083e90-498e-4d70-80aa-5dea7b7cd8cf",
   "metadata": {},
   "outputs": [],
   "source": [
    "a=12\n",
    "b=3\n",
    "while a/b:\n",
    "    print(a is divisible by b)\n",
    "    count(print)\n",
    "    "
   ]
  },
  {
   "cell_type": "markdown",
   "id": "15bd9c8a-719c-4cfc-9077-94516c32a756",
   "metadata": {},
   "source": [
    "Q6. Create a list containing 25 int type data. Using for loop and if-else condition print if the element is\n",
    "divisible by 3 or not."
   ]
  },
  {
   "cell_type": "code",
   "execution_count": null,
   "id": "4fa7dc9d-4883-43fa-98ef-d72e9330d1ff",
   "metadata": {},
   "outputs": [],
   "source": [
    "list_1 = list()\n",
    "for x in range(25):\n",
    "    list_1.append(x)"
   ]
  }
 ],
 "metadata": {
  "kernelspec": {
   "display_name": "Python 3 (ipykernel)",
   "language": "python",
   "name": "python3"
  },
  "language_info": {
   "codemirror_mode": {
    "name": "ipython",
    "version": 3
   },
   "file_extension": ".py",
   "mimetype": "text/x-python",
   "name": "python",
   "nbconvert_exporter": "python",
   "pygments_lexer": "ipython3",
   "version": "3.10.8"
  }
 },
 "nbformat": 4,
 "nbformat_minor": 5
}
